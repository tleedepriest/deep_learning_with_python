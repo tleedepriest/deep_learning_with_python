{
  "nbformat": 4,
  "nbformat_minor": 0,
  "metadata": {
    "colab": {
      "name": "multiclassification_on_imdb.ipynb",
      "provenance": [],
      "collapsed_sections": [],
      "toc_visible": true,
      "authorship_tag": "ABX9TyMUsiic4DZjQgIkTtVODwjT",
      "include_colab_link": true
    },
    "kernelspec": {
      "name": "python3",
      "display_name": "Python 3"
    },
    "language_info": {
      "name": "python"
    }
  },
  "cells": [
    {
      "cell_type": "markdown",
      "metadata": {
        "id": "view-in-github",
        "colab_type": "text"
      },
      "source": [
        "<a href=\"https://colab.research.google.com/github/tleedepriest/deep_learning_with_python/blob/main/multiclassification_on_imdb.ipynb\" target=\"_parent\"><img src=\"https://colab.research.google.com/assets/colab-badge.svg\" alt=\"Open In Colab\"/></a>"
      ]
    },
    {
      "cell_type": "markdown",
      "source": [
        "Multiclassification Model on IMDB Dataset"
      ],
      "metadata": {
        "id": "Jw232BVOHJvC"
      }
    },
    {
      "cell_type": "code",
      "execution_count": 3,
      "metadata": {
        "id": "e4CTkBaNdQ-c"
      },
      "outputs": [],
      "source": [
        "import numpy as np\n",
        "import matplotlib.pyplot as plt\n",
        "from keras.datasets import imdb\n",
        "from keras import models\n",
        "from keras import layers "
      ]
    },
    {
      "cell_type": "markdown",
      "source": [
        "Define some functions we will use in the \"main\" function"
      ],
      "metadata": {
        "id": "GdJ8vtZKGxSD"
      }
    },
    {
      "cell_type": "code",
      "source": [
        "def vec_sequences(sequences, dimension):\n",
        "  \"\"\"\n",
        "  Parameters\n",
        "  --------------\n",
        "  sequences: 2d numpy arrary of ints\n",
        "  \n",
        "  dimension: int \n",
        "    the maximum length of each sequence.\n",
        "    second dimension of results\n",
        "  \n",
        "  Returns\n",
        "  --------------\n",
        "  results: 2D numpy array\n",
        "  \n",
        "  Notes\n",
        "  ---------------\n",
        "  maps indexes found in sequences to\n",
        "  vector of 1's and 0's\n",
        "  \"\"\"\n",
        "  results = np.zeros(shape=(len(sequences), dimension))\n",
        "  for i, seq in enumerate(sequences):\n",
        "    results[i, seq] = 1\n",
        "  return results"
      ],
      "metadata": {
        "id": "F45y7fGWHPAq"
      },
      "execution_count": 4,
      "outputs": []
    },
    {
      "cell_type": "code",
      "source": [
        "def plot_results(history, result='loss'):\n",
        "  \"\"\"\n",
        "  Parameters\n",
        "  -------------\n",
        "  history: Object\n",
        "    object obtain from model.fit function\n",
        "\n",
        "  result: string\n",
        "    'acc' or 'loss'\n",
        "  \n",
        "  Returns None\n",
        "  \"\"\"\n",
        "  if result == 'loss':\n",
        "    train_val = 'loss'\n",
        "    val_val = 'val_loss'\n",
        "    train_label = 'Training Loss'\n",
        "    val_label = 'Validation Loss'\n",
        "    title = 'Validation and Training Loss'\n",
        "    y_label = 'Loss'\n",
        "  else:\n",
        "    train_val = 'acc'\n",
        "    val_val = 'val_acc'\n",
        "    train_label = 'Training Accuracy'\n",
        "    val_label = 'Validation Accuracy'\n",
        "    title = 'Validation and Training Accuracy'\n",
        "    y_label = 'Accuracy'\n",
        "  train_vals = history.history[train_val]\n",
        "  val_vals = history.history[val_val]\n",
        "  epochs = range(1, len(train_vals) +1)\n",
        "\n",
        "  plt.plot(epochs, train_vals, 'bo', label=train_label)\n",
        "  plt.plot(epochs, val_vals, 'b', label=val_label)\n",
        "  plt.xlabel('epochs')\n",
        "  plt.ylabel(y_label)\n",
        "  plt.title(title)\n",
        "  plt.legend()\n",
        "  plt.show()"
      ],
      "metadata": {
        "id": "SJdc2V-rNfbk"
      },
      "execution_count": 5,
      "outputs": []
    },
    {
      "cell_type": "code",
      "source": [
        "(train_data, train_labels), (test_data, test_labels) = imdb.load_data(num_words=10000)\n",
        "print(train_data[0])\n",
        "print(train_labels[0])\n",
        "print(len(train_data))\n",
        "print(len(train_labels))\n",
        "print(len(test_data))"
      ],
      "metadata": {
        "colab": {
          "base_uri": "https://localhost:8080/"
        },
        "id": "R9wpmgK1Iarc",
        "outputId": "5ebdba24-8a0a-48d8-8de8-3a83c5ab1cf7"
      },
      "execution_count": 6,
      "outputs": [
        {
          "output_type": "stream",
          "name": "stdout",
          "text": [
            "[1, 14, 22, 16, 43, 530, 973, 1622, 1385, 65, 458, 4468, 66, 3941, 4, 173, 36, 256, 5, 25, 100, 43, 838, 112, 50, 670, 2, 9, 35, 480, 284, 5, 150, 4, 172, 112, 167, 2, 336, 385, 39, 4, 172, 4536, 1111, 17, 546, 38, 13, 447, 4, 192, 50, 16, 6, 147, 2025, 19, 14, 22, 4, 1920, 4613, 469, 4, 22, 71, 87, 12, 16, 43, 530, 38, 76, 15, 13, 1247, 4, 22, 17, 515, 17, 12, 16, 626, 18, 2, 5, 62, 386, 12, 8, 316, 8, 106, 5, 4, 2223, 5244, 16, 480, 66, 3785, 33, 4, 130, 12, 16, 38, 619, 5, 25, 124, 51, 36, 135, 48, 25, 1415, 33, 6, 22, 12, 215, 28, 77, 52, 5, 14, 407, 16, 82, 2, 8, 4, 107, 117, 5952, 15, 256, 4, 2, 7, 3766, 5, 723, 36, 71, 43, 530, 476, 26, 400, 317, 46, 7, 4, 2, 1029, 13, 104, 88, 4, 381, 15, 297, 98, 32, 2071, 56, 26, 141, 6, 194, 7486, 18, 4, 226, 22, 21, 134, 476, 26, 480, 5, 144, 30, 5535, 18, 51, 36, 28, 224, 92, 25, 104, 4, 226, 65, 16, 38, 1334, 88, 12, 16, 283, 5, 16, 4472, 113, 103, 32, 15, 16, 5345, 19, 178, 32]\n",
            "1\n",
            "25000\n",
            "25000\n",
            "25000\n"
          ]
        }
      ]
    },
    {
      "cell_type": "markdown",
      "source": [
        "Below we are using vec_sequences(although keras provides a built in utility function to do this)\n",
        "to transform our input data into a 2D numpy array where each sequence in the arrary has the same length as the number of words in the dataset (10000)\n",
        "\n",
        "For the labels, we use dimension as 46 because this is the number of labels, or types of news articles in the dataset."
      ],
      "metadata": {
        "id": "E6sOh2fyKMVd"
      }
    },
    {
      "cell_type": "code",
      "source": [
        "X_train = vec_sequences(train_data, dimension=10000)\n",
        "X_test = vec_sequences(test_data, dimension=10000)\n",
        "y_train = vec_sequences(train_labels, dimension=46)\n",
        "y_test = vec_sequences(test_labels, dimension=46)\n",
        "print(y_train[0])"
      ],
      "metadata": {
        "colab": {
          "base_uri": "https://localhost:8080/"
        },
        "id": "pkbpSZ03JA_8",
        "outputId": "06ff6fb1-9dbb-4ece-fc3a-0dfdb79df2e6"
      },
      "execution_count": 7,
      "outputs": [
        {
          "output_type": "stream",
          "name": "stdout",
          "text": [
            "[0. 1. 0. 0. 0. 0. 0. 0. 0. 0. 0. 0. 0. 0. 0. 0. 0. 0. 0. 0. 0. 0. 0. 0.\n",
            " 0. 0. 0. 0. 0. 0. 0. 0. 0. 0. 0. 0. 0. 0. 0. 0. 0. 0. 0. 0. 0. 0.]\n"
          ]
        }
      ]
    },
    {
      "cell_type": "code",
      "source": [
        "model = models.Sequential()\n",
        "model.add(layers.Dense(64, activation='relu', input_shape=(10000,)))\n",
        "model.add(layers.Dense(64, activation='relu'))\n",
        "model.add(layers.Dense(46, activation='softmax'))"
      ],
      "metadata": {
        "id": "2Cyg1QMcJkTc"
      },
      "execution_count": 8,
      "outputs": []
    },
    {
      "cell_type": "markdown",
      "source": [
        "NOTE: We pick a softmax activation to end up with a probability distribution over the 46 topics."
      ],
      "metadata": {
        "id": "VtmlfD7HmYAd"
      }
    },
    {
      "cell_type": "code",
      "source": [
        "model.compile(optimizer='rmsprop',\n",
        "              loss='categorical_crossentropy',\n",
        "              metrics=['acc'])"
      ],
      "metadata": {
        "id": "T2ArPzlSKqOU"
      },
      "execution_count": 9,
      "outputs": []
    },
    {
      "cell_type": "code",
      "source": [
        "X_val = X_train[:1000]\n",
        "partial_X_train = X_train[1000:]\n",
        "\n",
        "y_val = y_train[:1000]\n",
        "partial_y_train = y_train[1000:]"
      ],
      "metadata": {
        "id": "aG_16q6mLAfN"
      },
      "execution_count": 24,
      "outputs": []
    },
    {
      "cell_type": "code",
      "source": [
        "history = model.fit(partial_X_train,\n",
        "          partial_y_train,\n",
        "          epochs=20,\n",
        "          batch_size=512,\n",
        "          validation_data=(X_val, y_val))"
      ],
      "metadata": {
        "colab": {
          "base_uri": "https://localhost:8080/"
        },
        "id": "KK7YaY3tM-Ku",
        "outputId": "2c295a92-0283-452f-98a7-b477c8f234c7"
      },
      "execution_count": 25,
      "outputs": [
        {
          "output_type": "stream",
          "name": "stdout",
          "text": [
            "Epoch 1/20\n",
            "47/47 [==============================] - 6s 85ms/step - loss: 0.9058 - acc: 0.7429 - val_loss: 0.3404 - val_acc: 0.8810\n",
            "Epoch 2/20\n",
            "47/47 [==============================] - 3s 64ms/step - loss: 0.3000 - acc: 0.8882 - val_loss: 0.2727 - val_acc: 0.8840\n",
            "Epoch 3/20\n",
            "47/47 [==============================] - 3s 63ms/step - loss: 0.2202 - acc: 0.9162 - val_loss: 0.3129 - val_acc: 0.8710\n",
            "Epoch 4/20\n",
            "47/47 [==============================] - 3s 63ms/step - loss: 0.1794 - acc: 0.9310 - val_loss: 0.2639 - val_acc: 0.8850\n",
            "Epoch 5/20\n",
            "47/47 [==============================] - 3s 62ms/step - loss: 0.1467 - acc: 0.9448 - val_loss: 0.2832 - val_acc: 0.8940\n",
            "Epoch 6/20\n",
            "47/47 [==============================] - 3s 63ms/step - loss: 0.1163 - acc: 0.9577 - val_loss: 0.2929 - val_acc: 0.8860\n",
            "Epoch 7/20\n",
            "47/47 [==============================] - 3s 63ms/step - loss: 0.0903 - acc: 0.9690 - val_loss: 0.3974 - val_acc: 0.8660\n",
            "Epoch 8/20\n",
            "47/47 [==============================] - 3s 62ms/step - loss: 0.0694 - acc: 0.9770 - val_loss: 0.4854 - val_acc: 0.8640\n",
            "Epoch 9/20\n",
            "47/47 [==============================] - 3s 65ms/step - loss: 0.0500 - acc: 0.9837 - val_loss: 0.3839 - val_acc: 0.8870\n",
            "Epoch 10/20\n",
            "47/47 [==============================] - 3s 65ms/step - loss: 0.0454 - acc: 0.9849 - val_loss: 0.3913 - val_acc: 0.8820\n",
            "Epoch 11/20\n",
            "47/47 [==============================] - 3s 65ms/step - loss: 0.0223 - acc: 0.9939 - val_loss: 0.4567 - val_acc: 0.8840\n",
            "Epoch 12/20\n",
            "47/47 [==============================] - 3s 63ms/step - loss: 0.0212 - acc: 0.9936 - val_loss: 0.4838 - val_acc: 0.8810\n",
            "Epoch 13/20\n",
            "47/47 [==============================] - 3s 65ms/step - loss: 0.0247 - acc: 0.9930 - val_loss: 0.5158 - val_acc: 0.8880\n",
            "Epoch 14/20\n",
            "47/47 [==============================] - 3s 64ms/step - loss: 0.0030 - acc: 0.9999 - val_loss: 0.5975 - val_acc: 0.8820\n",
            "Epoch 15/20\n",
            "47/47 [==============================] - 3s 63ms/step - loss: 0.0172 - acc: 0.9948 - val_loss: 0.6356 - val_acc: 0.8860\n",
            "Epoch 16/20\n",
            "47/47 [==============================] - 3s 65ms/step - loss: 0.0141 - acc: 0.9956 - val_loss: 0.7144 - val_acc: 0.8730\n",
            "Epoch 17/20\n",
            "47/47 [==============================] - 3s 64ms/step - loss: 9.0594e-04 - acc: 1.0000 - val_loss: 0.7336 - val_acc: 0.8840\n",
            "Epoch 18/20\n",
            "47/47 [==============================] - 3s 62ms/step - loss: 0.0176 - acc: 0.9958 - val_loss: 0.7275 - val_acc: 0.8830\n",
            "Epoch 19/20\n",
            "47/47 [==============================] - 3s 63ms/step - loss: 3.7145e-04 - acc: 1.0000 - val_loss: 0.7951 - val_acc: 0.8850\n",
            "Epoch 20/20\n",
            "47/47 [==============================] - 3s 62ms/step - loss: 0.0147 - acc: 0.9965 - val_loss: 0.8082 - val_acc: 0.8760\n"
          ]
        }
      ]
    },
    {
      "cell_type": "code",
      "source": [
        "plot_results(history=history)"
      ],
      "metadata": {
        "colab": {
          "base_uri": "https://localhost:8080/",
          "height": 295
        },
        "id": "Ak9fIC_VNPul",
        "outputId": "fee778d7-65c6-4f8c-981a-1493b77c305b"
      },
      "execution_count": 31,
      "outputs": [
        {
          "output_type": "display_data",
          "data": {
            "image/png": "[encoded data removed]",
            "text/plain": [
              "<Figure size 432x288 with 1 Axes>"
            ]
          },
          "metadata": {
            "needs_background": "light"
          }
        }
      ]
    },
    {
      "cell_type": "markdown",
      "source": [
        "The chart above shows that the loss decreases for the validation data, but increases for the training data. This is the phenemena of overfitting where the model begins to learn features specific to the training data.\n",
        "\n",
        "We should stop the number of epochs aroudn 3 or 4\n",
        "before training loss begins to increase."
      ],
      "metadata": {
        "id": "z5wJ9gzKPp4f"
      }
    },
    {
      "cell_type": "code",
      "source": [
        "plot_results(history, result='acc')"
      ],
      "metadata": {
        "colab": {
          "base_uri": "https://localhost:8080/",
          "height": 295
        },
        "id": "SrQQ6APqRQ-f",
        "outputId": "9c90098b-1764-49df-a81b-2c7e5d6e1c5a"
      },
      "execution_count": 40,
      "outputs": [
        {
          "output_type": "display_data",
          "data": {
            "image/png": "[encoded data removed]",
            "text/plain": [
              "<Figure size 432x288 with 1 Axes>"
            ]
          },
          "metadata": {
            "needs_background": "light"
          }
        }
      ]
    },
    {
      "cell_type": "code",
      "source": [
        "model.fit(X_train, \n",
        "          y_train,\n",
        "          epochs=4,\n",
        "          batch_size=512)\n"
      ],
      "metadata": {
        "colab": {
          "base_uri": "https://localhost:8080/"
        },
        "id": "XVmgbdZsR-nw",
        "outputId": "ef26b454-260a-4f51-9ef3-e2bea4ca637f"
      },
      "execution_count": 10,
      "outputs": [
        {
          "output_type": "stream",
          "name": "stdout",
          "text": [
            "Epoch 1/4\n",
            "49/49 [==============================] - 4s 48ms/step - loss: 0.7876 - acc: 0.7608\n",
            "Epoch 2/4\n",
            "49/49 [==============================] - 2s 46ms/step - loss: 0.2901 - acc: 0.8889\n",
            "Epoch 3/4\n",
            "49/49 [==============================] - 2s 47ms/step - loss: 0.2160 - acc: 0.9178\n",
            "Epoch 4/4\n",
            "49/49 [==============================] - 2s 45ms/step - loss: 0.1774 - acc: 0.9328\n"
          ]
        },
        {
          "output_type": "execute_result",
          "data": {
            "text/plain": [
              "<keras.callbacks.History at 0x7f5f5cb846d0>"
            ]
          },
          "metadata": {},
          "execution_count": 10
        }
      ]
    },
    {
      "cell_type": "code",
      "source": [
        "results = model.evaluate(X_test, y_test)\n",
        "print(results)"
      ],
      "metadata": {
        "colab": {
          "base_uri": "https://localhost:8080/"
        },
        "id": "G_Jft1waSxjp",
        "outputId": "c570e55b-286f-45a6-9d67-3695f23650d9"
      },
      "execution_count": 11,
      "outputs": [
        {
          "output_type": "stream",
          "name": "stdout",
          "text": [
            "782/782 [==============================] - 2s 3ms/step - loss: 0.3035 - acc: 0.8809\n",
            "[0.30353042483329773, 0.8809199929237366]\n"
          ]
        }
      ]
    },
    {
      "cell_type": "code",
      "source": [
        "predictions = model.predict(X_test)"
      ],
      "metadata": {
        "id": "F-AY-7ixgmo9"
      },
      "execution_count": 12,
      "outputs": []
    },
    {
      "cell_type": "code",
      "source": [
        "print(predictions[0])\n",
        "print(np.argmax(predictions[0]))\n",
        "print(predictions[0][0]*100)\n",
        "print(predictions[0].shape)\n",
        "print(np.sum(predictions[0]))"
      ],
      "metadata": {
        "colab": {
          "base_uri": "https://localhost:8080/"
        },
        "id": "QP0fYBxsgtZe",
        "outputId": "6cd1df85-974f-46f2-e6a0-87e1cb24a5f1"
      },
      "execution_count": 17,
      "outputs": [
        {
          "output_type": "stream",
          "name": "stdout",
          "text": [
            "[7.7179742e-01 2.2726390e-01 1.0218098e-05 8.9179389e-07 2.4392011e-05\n",
            " 2.8028671e-05 8.6272448e-06 1.9345400e-05 8.7875414e-06 8.9131063e-06\n",
            " 1.6712409e-05 4.3081855e-06 2.2125043e-05 9.0057347e-06 4.2142845e-05\n",
            " 5.6227738e-05 5.6644071e-06 2.6112029e-06 6.5411325e-05 6.1362839e-06\n",
            " 2.0558222e-05 5.3277586e-06 3.3521177e-05 1.0429603e-05 1.9111560e-05\n",
            " 9.1247439e-06 1.0248083e-04 3.7961072e-05 1.6452395e-05 3.5340312e-05\n",
            " 1.2075129e-05 2.0454972e-06 1.4401283e-05 3.0536896e-05 4.2222131e-05\n",
            " 2.6070340e-05 7.2493560e-05 1.7946391e-05 8.5830698e-06 3.5792698e-06\n",
            " 2.4389894e-05 9.3919307e-06 6.2684267e-06 1.1797557e-05 2.3631970e-05\n",
            " 3.3436104e-06]\n",
            "0\n",
            "77.17974185943604\n",
            "(46,)\n",
            "0.9999999\n"
          ]
        }
      ]
    },
    {
      "cell_type": "markdown",
      "source": [
        "Note, Instead of one-hot encoding the training and test labels as 46 len vectors, we could have used this approach below, which casts the labels to an numpy array"
      ],
      "metadata": {
        "id": "q6hpaXiMlQsu"
      }
    },
    {
      "cell_type": "code",
      "source": [
        "y_train = np.asarray(train_labels)\n",
        "y_test = np.asarray(test_labels)\n",
        "print(y_train[0])\n",
        "print(y_train.shape)\n"
      ],
      "metadata": {
        "colab": {
          "base_uri": "https://localhost:8080/"
        },
        "id": "UgOj5E31leTG",
        "outputId": "a256c4ef-64a8-4efb-98fd-39ad8ba1e17a"
      },
      "execution_count": 19,
      "outputs": [
        {
          "output_type": "stream",
          "name": "stdout",
          "text": [
            "1\n",
            "(25000,)\n"
          ]
        }
      ]
    },
    {
      "cell_type": "markdown",
      "source": [
        "If we choose the approach above, we need to change the loss function in our model to 'sparse_categorical_crossentropy'"
      ],
      "metadata": {
        "id": "78KoPMo8l3PG"
      }
    },
    {
      "cell_type": "markdown",
      "source": [
        ""
      ],
      "metadata": {
        "id": "Hy646d1JmWH_"
      }
    }
  ]
}